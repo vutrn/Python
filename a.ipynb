{
 "cells": [
  {
   "cell_type": "code",
   "execution_count": 3,
   "metadata": {},
   "outputs": [
    {
     "name": "stdout",
     "output_type": "stream",
     "text": [
      "Sample Dataset:\n",
      "   Year  Customer rating\n",
      "0  2000                4\n",
      "1  2001                1\n",
      "2  2002                5\n",
      "3  2003                3\n",
      "4  2004                1\n",
      "\n",
      "Rating Counts:\n",
      "Customer rating\n",
      "1     87\n",
      "2     95\n",
      "3     98\n",
      "4    102\n",
      "5     98\n",
      "Name: count, dtype: int64\n"
     ]
    }
   ],
   "source": [
    "import pandas as pd\n",
    "import random\n",
    "\n",
    "# Create a dataset\n",
    "your_dataset = pd.DataFrame()\n",
    "\n",
    "# Generate random delivery dates within the date range\n",
    "your_dataset['Year'] = [year for year in range(2000, 2024)] * 20  # Adjust the repetition as needed\n",
    "your_dataset['Customer rating'] = [random.randint(1, 5) for _ in range(20 * 24)]  # Adjust the size as needed\n",
    "\n",
    "# Display the updated dataset\n",
    "print(\"Sample Dataset:\")\n",
    "print(your_dataset.head())\n",
    "\n",
    "# Count the number of occurrences for each rating number\n",
    "rating_counts = your_dataset['Customer rating'].value_counts().sort_index()\n",
    "\n",
    "# Display the counts\n",
    "print(\"\\nRating Counts:\")\n",
    "print(rating_counts)\n"
   ]
  }
 ],
 "metadata": {
  "kernelspec": {
   "display_name": ".venv",
   "language": "python",
   "name": "python3"
  },
  "language_info": {
   "codemirror_mode": {
    "name": "ipython",
    "version": 3
   },
   "file_extension": ".py",
   "mimetype": "text/x-python",
   "name": "python",
   "nbconvert_exporter": "python",
   "pygments_lexer": "ipython3",
   "version": "3.11.5"
  }
 },
 "nbformat": 4,
 "nbformat_minor": 2
}
